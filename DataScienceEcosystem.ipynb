{
 "cells": [
  {
   "cell_type": "markdown",
   "id": "a3d6471b-adb5-4691-a9f0-8680d0cf2eee",
   "metadata": {},
   "source": [
    "# Data Science Tools and Ecosystem"
   ]
  },
  {
   "cell_type": "markdown",
   "id": "38fcb8d9-c1cd-4b22-9571-34acb52c076e",
   "metadata": {},
   "source": [
    "In this notebook, Data Science Tools and Ecosystem are summarized."
   ]
  },
  {
   "cell_type": "markdown",
   "id": "908f3e9a-b971-4d74-911c-95d0f2d4cce0",
   "metadata": {},
   "source": [
    "**Objectives:**\n",
    "- Add ordered lists\n",
    "- Add comments to cells containing code\n",
    "- Create markdown cells\n",
    "- Add headers in H1 and H3\n",
    "- Create a table"
   ]
  },
  {
   "cell_type": "markdown",
   "id": "3fbf91c6-4960-4116-b5d9-9e6b7daf7049",
   "metadata": {},
   "source": [
    "Some of the popular languages that Data Scientists use are:\n",
    "1. Python\n",
    "2. R\n",
    "3. SQL\n",
    "4. Scala\n",
    "5. C++\n",
    "6. Javascript"
   ]
  },
  {
   "cell_type": "markdown",
   "id": "28748d27-6923-483f-9c53-2b1f1d9bbf79",
   "metadata": {},
   "source": [
    "Some of the commonly used libraries used by Data Scientists include:\n",
    "1. Pandas\n",
    "2. Numpy\n",
    "3. Matplotlib\n",
    "4. Scikit-learn\n",
    "5. TensorFlow\n",
    "6. PyTorch"
   ]
  },
  {
   "cell_type": "markdown",
   "id": "e144f9df-071d-40fe-8318-0594acc7bba0",
   "metadata": {},
   "source": [
    "Data Science Tools:\n",
    "|Data Science Tools|\n",
    "|------------------|\n",
    "|Anaconda|\n",
    "|Jupyter Notebooks|\n",
    "|Spyder|\n",
    "|R Studio|\n",
    "|Zeppelin|"
   ]
  },
  {
   "cell_type": "markdown",
   "id": "966922ad-c94c-4800-9edd-4b52067c936a",
   "metadata": {},
   "source": [
    "### Below are a few examples of evaluating arithmetic expressions in Python"
   ]
  },
  {
   "cell_type": "code",
   "execution_count": 1,
   "id": "c9abb3f1-1e72-468b-b801-f7b64f84270b",
   "metadata": {},
   "outputs": [
    {
     "data": {
      "text/plain": [
       "17"
      ]
     },
     "execution_count": 1,
     "metadata": {},
     "output_type": "execute_result"
    }
   ],
   "source": [
    "# This is a simple arithemtic expression to multiply then add integers\n",
    "(2*7)+3"
   ]
  },
  {
   "cell_type": "code",
   "execution_count": 3,
   "id": "be344ad4-5dc0-4894-b275-4de6b9797866",
   "metadata": {},
   "outputs": [
    {
     "name": "stdout",
     "output_type": "stream",
     "text": [
      "5.0\n"
     ]
    }
   ],
   "source": [
    "# This will convert 300 minutes to hours by dividing by 60 and then printing the result\n",
    "minutes = 300\n",
    "hours = 300/60\n",
    "print(hours)"
   ]
  },
  {
   "cell_type": "markdown",
   "id": "e31c8b54-4fab-49f8-98ec-0870458051b1",
   "metadata": {},
   "source": [
    "## Author\n",
    "Nina Edvardsdal"
   ]
  },
  {
   "cell_type": "code",
   "execution_count": null,
   "id": "8d533163-b686-4135-a499-68f57a677b39",
   "metadata": {},
   "outputs": [],
   "source": []
  }
 ],
 "metadata": {
  "kernelspec": {
   "display_name": "Python",
   "language": "python",
   "name": "conda-env-python-py"
  },
  "language_info": {
   "codemirror_mode": {
    "name": "ipython",
    "version": 3
   },
   "file_extension": ".py",
   "mimetype": "text/x-python",
   "name": "python",
   "nbconvert_exporter": "python",
   "pygments_lexer": "ipython3",
   "version": "3.7.12"
  }
 },
 "nbformat": 4,
 "nbformat_minor": 5
}
